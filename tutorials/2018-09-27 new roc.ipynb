{
 "cells": [
  {
   "cell_type": "code",
   "execution_count": 2,
   "metadata": {},
   "outputs": [],
   "source": [
    "import vip_hci as vip\n",
    "import numpy as np"
   ]
  },
  {
   "cell_type": "code",
   "execution_count": 4,
   "metadata": {},
   "outputs": [
    {
     "name": "stdout",
     "output_type": "stream",
     "text": [
      "/Users/ralf/Documents/KIT/UGA/MA/archive\n",
      "naco_betapic.npz         naco_betapic_pa.fits     naco_betapic_psf.fits\n",
      "naco_betapic_cube.fits   naco_betapic_preproc.npz\n"
     ]
    }
   ],
   "source": [
    "!pwd\n",
    "!ls ../datasets"
   ]
  },
  {
   "cell_type": "code",
   "execution_count": 5,
   "metadata": {},
   "outputs": [],
   "source": [
    "ds1 = vip.HCIDataset.load(\"../datasets/naco_betapic_preproc\")\n",
    "\n",
    "ds2 = ds1.copy()  # simulate a second dataset"
   ]
  },
  {
   "cell_type": "code",
   "execution_count": 6,
   "metadata": {},
   "outputs": [],
   "source": [
    "r = vip.metrics.Roc()\n",
    "ra1 = r.add_algo(vip.HCIMedianSub(mode=\"fullfr\", verbose=False), \"Median Sub\", thresholds=[1, 2, 3, 4, 5])\n",
    "ra2 = r.add_algo(vip.HCIPca(ncomp=10, verbose=False), \"PCA\", thresholds=[1, 2, 3, 4, 5])"
   ]
  },
  {
   "cell_type": "code",
   "execution_count": null,
   "metadata": {},
   "outputs": [
    {
     "name": "stdout",
     "output_type": "stream",
     "text": [
      "storing algo Median Sub\n",
      "storing algo PCA\n",
      "storing algo Median Sub\n",
      "storing algo PCA\n"
     ]
    }
   ],
   "source": [
    "# ====== inject\n",
    "for ds1_fake in ds1.generate_copies_with_injections(n_copies=20, inrad=5, outrad=30):\n",
    "    # run the algorithm, but the one on the ra1 object!\n",
    "    # TODO: what about references? does it also work with a1?\n",
    "    \n",
    "    # ====== postprocess\n",
    "    # run both algos on fake DS1\n",
    "    ra1.run(ds1_fake, verbose=False)\n",
    "    ra1.make_snr_map(method=\"fast\", verbose=False)\n",
    "    \n",
    "    ra2.run(ds1_fake, verbose=False)\n",
    "    ra2.make_snr_map(method=\"fast\", verbose=False)\n",
    "    \n",
    "    # ===== detect\n",
    "    # compute tpr/fps\n",
    "    r.store() # this should also store the injection positions"
   ]
  },
  {
   "cell_type": "code",
   "execution_count": null,
   "metadata": {},
   "outputs": [],
   "source": [
    "# r.set_thresholds(0, [1, 2, 3, 4, 5])\n",
    "# r.set_thresholds(1, [1, 2, 3, 4, 5, 6])"
   ]
  },
  {
   "cell_type": "code",
   "execution_count": null,
   "metadata": {},
   "outputs": [],
   "source": [
    "r.compute()"
   ]
  },
  {
   "cell_type": "code",
   "execution_count": null,
   "metadata": {},
   "outputs": [],
   "source": [
    "r.plot(show_data_labels=True, dpi=100)"
   ]
  },
  {
   "cell_type": "code",
   "execution_count": null,
   "metadata": {},
   "outputs": [],
   "source": []
  }
 ],
 "metadata": {
  "kernelspec": {
   "display_name": "Python 3",
   "language": "python",
   "name": "python3"
  },
  "language_info": {
   "codemirror_mode": {
    "name": "ipython",
    "version": 3
   },
   "file_extension": ".py",
   "mimetype": "text/x-python",
   "name": "python",
   "nbconvert_exporter": "python",
   "pygments_lexer": "ipython3",
   "version": "3.6.4"
  },
  "toc": {
   "base_numbering": 1,
   "nav_menu": {},
   "number_sections": false,
   "sideBar": true,
   "skip_h1_title": true,
   "title_cell": "Table of Contents",
   "title_sidebar": "Contents",
   "toc_cell": false,
   "toc_position": {},
   "toc_section_display": true,
   "toc_window_display": true
  }
 },
 "nbformat": 4,
 "nbformat_minor": 2
}
