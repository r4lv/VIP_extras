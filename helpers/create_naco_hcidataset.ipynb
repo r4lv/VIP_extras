{
 "cells": [
  {
   "cell_type": "markdown",
   "metadata": {},
   "source": [
    "# Create NACO betapic HCIDataset\n",
    "\n",
    "> 2018-09-26"
   ]
  },
  {
   "cell_type": "code",
   "execution_count": 1,
   "metadata": {},
   "outputs": [
    {
     "data": {
      "text/plain": [
       "'0.9.8'"
      ]
     },
     "execution_count": 1,
     "metadata": {},
     "output_type": "execute_result"
    }
   ],
   "source": [
    "import vip_hci as vip\n",
    "vip.__version__"
   ]
  },
  {
   "cell_type": "markdown",
   "metadata": {},
   "source": [
    "#### load fits"
   ]
  },
  {
   "cell_type": "code",
   "execution_count": 2,
   "metadata": {},
   "outputs": [
    {
     "name": "stdout",
     "output_type": "stream",
     "text": [
      "naco_betapic.npz         naco_betapic_pa.fits     naco_betapic_psf.fits\r\n",
      "naco_betapic_cube.fits   naco_betapic_preproc.npz\r\n"
     ]
    }
   ],
   "source": [
    "!ls ../datasets"
   ]
  },
  {
   "cell_type": "code",
   "execution_count": 3,
   "metadata": {},
   "outputs": [
    {
     "name": "stdout",
     "output_type": "stream",
     "text": [
      "Cube array shape: (61, 101, 101)\n",
      "Angles array shape: (61, 1)\n",
      "PSF array shape: (39, 39)\n",
      "Pixel/plate scale: 0.02719\n"
     ]
    }
   ],
   "source": [
    "dataset = vip.HCIDataset(cube=\"../datasets/naco_betapic_cube.fits\",\n",
    "                         angles=\"../datasets/naco_betapic_pa.fits\",\n",
    "                         psf=\"../datasets/naco_betapic_psf.fits\",\n",
    "                         px_scale=vip.conf.VLT_NACO[\"plsc\"])"
   ]
  },
  {
   "cell_type": "code",
   "execution_count": 4,
   "metadata": {},
   "outputs": [],
   "source": [
    "# angles have a wrong shape: (61,1) instead of (61,)\n",
    "dataset.angles = dataset.angles.reshape(-1)"
   ]
  },
  {
   "cell_type": "markdown",
   "metadata": {},
   "source": [
    "#### original"
   ]
  },
  {
   "cell_type": "code",
   "execution_count": 5,
   "metadata": {},
   "outputs": [],
   "source": [
    "dataset.save(\"../datasets/naco_betapic\")"
   ]
  },
  {
   "cell_type": "markdown",
   "metadata": {},
   "source": [
    "#### pre-processed"
   ]
  },
  {
   "cell_type": "code",
   "execution_count": 6,
   "metadata": {},
   "outputs": [
    {
     "name": "stdout",
     "output_type": "stream",
     "text": [
      "WARNING: `size` is even while input frame size is odd. Make sure the center coordinates are set properly\n",
      "New shape: (61, 100, 100)\n",
      "Mean FWHM: 4.801\n",
      "Flux in 1xFWHM aperture: 1.301\n",
      "Normalized PSF array shape: (38, 38)\n",
      "The attribute `psfn` contains the normalized PSF\n",
      "`fwhm` attribute set to\n",
      "4.801\n"
     ]
    }
   ],
   "source": [
    "# crop\n",
    "dataset.crop_frames(size=100, force=True)\n",
    "dataset.normalize_psf(size=38, force_odd=False)\n",
    "\n",
    "# overwrite PSF for easy access\n",
    "dataset.psf = dataset.psfn"
   ]
  },
  {
   "cell_type": "code",
   "execution_count": 7,
   "metadata": {},
   "outputs": [],
   "source": [
    "dataset.save(\"../datasets/naco_betapic_preproc\")"
   ]
  }
 ],
 "metadata": {
  "kernelspec": {
   "display_name": "Python 3",
   "language": "python",
   "name": "python3"
  },
  "language_info": {
   "codemirror_mode": {
    "name": "ipython",
    "version": 3
   },
   "file_extension": ".py",
   "mimetype": "text/x-python",
   "name": "python",
   "nbconvert_exporter": "python",
   "pygments_lexer": "ipython3",
   "version": "3.6.4"
  },
  "toc": {
   "base_numbering": 1,
   "nav_menu": {},
   "number_sections": false,
   "sideBar": true,
   "skip_h1_title": true,
   "title_cell": "Table of Contents",
   "title_sidebar": "Contents",
   "toc_cell": false,
   "toc_position": {},
   "toc_section_display": true,
   "toc_window_display": true
  }
 },
 "nbformat": 4,
 "nbformat_minor": 2
}
